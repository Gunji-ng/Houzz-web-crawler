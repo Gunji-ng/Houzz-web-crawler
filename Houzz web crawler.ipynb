{
 "cells": [
  {
   "cell_type": "code",
   "execution_count": null,
   "metadata": {},
   "outputs": [],
   "source": [
    "import numpy as np\n",
    "import pandas as pd\n",
    "import requests\n",
    "from bs4 import BeautifulSoup\n",
    "from selenium import webdriver\n",
    "from selenium.webdriver.common.keys import Keys\n",
    "import time"
   ]
  },
  {
   "cell_type": "code",
   "execution_count": null,
   "metadata": {},
   "outputs": [],
   "source": []
  },
  {
   "cell_type": "code",
   "execution_count": null,
   "metadata": {},
   "outputs": [],
   "source": [
    "#create a list where the scraped businesses would be appended\n",
    "businesses_list = []"
   ]
  },
  {
   "cell_type": "code",
   "execution_count": null,
   "metadata": {},
   "outputs": [],
   "source": [
    "url_prefix = 'https://www.houzz.com'"
   ]
  },
  {
   "cell_type": "code",
   "execution_count": null,
   "metadata": {},
   "outputs": [],
   "source": [
    "#the page the crawler would start from\n",
    "starting_url = 'https://www.houzz.com/professionals/searchDirectory?location=us&topicId=11784'"
   ]
  },
  {
   "cell_type": "code",
   "execution_count": null,
   "metadata": {},
   "outputs": [],
   "source": [
    "#a function to retrieve the relevant details for each business found\n",
    "\n",
    "def get_attrs(business_listing):\n",
    "    #getting the business's phone number (returns 'None' if nothing is found)\n",
    "    try:\n",
    "        no_span = business_listing.find('span', attrs={'class': \"hz-pro-search-result__contact-info\"})\n",
    "        phone_no = no_span.text\n",
    "        \n",
    "    except:\n",
    "        phone_no = None\n",
    "    \n",
    "    #getting the business's name (returns 'None' if nothing is found)\n",
    "    try:\n",
    "        name_span = business_listing.find('span', attrs={'class':'header-5 text-unbold mlm'})\n",
    "        business_name = name_span.text\n",
    "        \n",
    "    except:\n",
    "        business_name = None\n",
    "    \n",
    "    #getting the business's address (returns 'None' if nothing is found)\n",
    "    try:\n",
    "        address_span = business_listing.find('span', attrs={'class':'hz-pro-search-result__location-info__text'})\n",
    "        business_address = address_span.text\n",
    "        \n",
    "    except:\n",
    "        business_address = None\n",
    "    \n",
    "    #getting the business's rating on the Houzz platform (returns 'None' if nothing is found)\n",
    "    try:\n",
    "        rating_span = business_listing.find('span', attrs={'class':'hz-star-rate__rating-number'})\n",
    "        rating = rating_span.text\n",
    "        \n",
    "    except:\n",
    "        rating = None\n",
    "    \n",
    "    #getting the number of reviews the business has (returns 'None' if nothing is found)\n",
    "    try:\n",
    "        no_of_reviews_span = business_listing.find('span', attrs={'class':'hz-star-rate__review-string'})\n",
    "        no_of_reviews = no_of_reviews_span.text\n",
    "        \n",
    "    except:\n",
    "        no_of_reviews = None\n",
    "    \n",
    "    #putting all the details gotten into a list\n",
    "    attrs_list = [phone_no, business_name, business_address, rating, no_of_reviews]\n",
    "    return attrs_list"
   ]
  },
  {
   "cell_type": "code",
   "execution_count": null,
   "metadata": {},
   "outputs": [],
   "source": [
    "def get_businesses(url):\n",
    "    #initializing a selenium session\n",
    "    browser = webdriver.Firefox()\n",
    "    browser.implicitly_wait(10)\n",
    "    #opening our target url with our selenium session\n",
    "    browser.get(url)\n",
    "    time.sleep(10)\n",
    "    \n",
    "    #using selenium to click all the 'click to call' elements on the webpage\n",
    "    #so that we can have access to the phone numbers\n",
    "    for call_button in browser.find_elements_by_class_name('hz-pro-search-result__contact-info__cover'):\n",
    "        call_button.click()\n",
    "    \n",
    "    #handing over the page in its clicked state to BeautifulSoup\n",
    "    soup = BeautifulSoup(browser.page_source, 'lxml')\n",
    "    \n",
    "    #calling get_attrs() on each business found on the webpage\n",
    "    #and appending the details to 'businesses_list'\n",
    "    for business_listing in soup.find_all('li', attrs={'class':'hz-pro-search-results__item'}):\n",
    "        business_details = get_attrs(business_listing)\n",
    "        businesses_list.append(business_details)\n",
    "        \n",
    "    #end the selenium session\n",
    "    browser.close()\n",
    "        \n",
    "    #Print out the url of the webpage we just scraped so we know we're done with that page\n",
    "    #this helps to monitor our crawler and acts as a log of sorts (to see that the crawler is working)\n",
    "    print(url)\n",
    "    \n",
    "    #if a 'next page' exists, go to its url and continue crawling (recursive)\n",
    "    next_link_ref = soup.find('a', attrs={'class':'hz-pagination-link hz-pagination-link--next'}).get('href')\n",
    "    if continue_crawl(next_link_ref):\n",
    "        new_url = url_prefix + next_link_ref\n",
    "        get_businesses(new_url)"
   ]
  },
  {
   "cell_type": "code",
   "execution_count": null,
   "metadata": {},
   "outputs": [],
   "source": [
    "def continue_crawl(next_link_ref):\n",
    "    if next_link_ref:\n",
    "        return True\n",
    "    else:\n",
    "        return False"
   ]
  },
  {
   "cell_type": "code",
   "execution_count": null,
   "metadata": {},
   "outputs": [],
   "source": []
  },
  {
   "cell_type": "code",
   "execution_count": null,
   "metadata": {},
   "outputs": [],
   "source": [
    "#calling get_business() on starting_url to commence crawling\n",
    "get_businesses(starting_url)"
   ]
  },
  {
   "cell_type": "code",
   "execution_count": null,
   "metadata": {},
   "outputs": [],
   "source": [
    "#businesses_list"
   ]
  },
  {
   "cell_type": "code",
   "execution_count": null,
   "metadata": {},
   "outputs": [],
   "source": [
    "#convert the businesses_list to a Pandas DataFrame\n",
    "businesses_list_df = pd.DataFrame(businesses_list, columns=['phone_no', 'business_name', 'business_address', 'rating', 'no_of_reviews'])\n",
    "businesses_list_df"
   ]
  },
  {
   "cell_type": "code",
   "execution_count": null,
   "metadata": {},
   "outputs": [],
   "source": [
    "#Drop duplicate entries\n",
    "businesses_list_df.drop_duplicates(inplace=True)"
   ]
  },
  {
   "cell_type": "code",
   "execution_count": null,
   "metadata": {},
   "outputs": [],
   "source": [
    "businesses_list_df"
   ]
  },
  {
   "cell_type": "code",
   "execution_count": null,
   "metadata": {},
   "outputs": [],
   "source": [
    "businesses_list_df.rating = businesses_list_df.rating.astype('float')"
   ]
  },
  {
   "cell_type": "code",
   "execution_count": null,
   "metadata": {},
   "outputs": [],
   "source": [
    "businesses_list_df.info()"
   ]
  },
  {
   "cell_type": "code",
   "execution_count": null,
   "metadata": {},
   "outputs": [],
   "source": [
    "#create a csv file from the Pandas DataFrame\n",
    "businesses_list_df.to_csv('businesses_list.csv', index=False)"
   ]
  },
  {
   "cell_type": "code",
   "execution_count": null,
   "metadata": {},
   "outputs": [],
   "source": []
  }
 ],
 "metadata": {
  "kernelspec": {
   "display_name": "Python 3",
   "language": "python",
   "name": "python3"
  },
  "language_info": {
   "codemirror_mode": {
    "name": "ipython",
    "version": 3
   },
   "file_extension": ".py",
   "mimetype": "text/x-python",
   "name": "python",
   "nbconvert_exporter": "python",
   "pygments_lexer": "ipython3",
   "version": "3.7.7"
  }
 },
 "nbformat": 4,
 "nbformat_minor": 4
}
